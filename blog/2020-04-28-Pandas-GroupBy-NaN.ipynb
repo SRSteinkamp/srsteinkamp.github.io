{
 "cells": [
  {
   "cell_type": "markdown",
   "metadata": {},
   "source": [
    "---\n",
    "layout: post\n",
    "title: \"A Pandas surprise - NaNs with groupby\"\n",
    "author: Simon R. Steinkamp\n",
    "date: 2020-04-28\n",
    "categories: [Python]\n",
    "---"
   ]
  },
  {
   "attachments": {},
   "cell_type": "markdown",
   "metadata": {},
   "source": [
    "# A Pandas surprise - NaNs and groupby"
   ]
  },
  {
   "cell_type": "code",
   "execution_count": null,
   "metadata": {},
   "outputs": [],
   "source": [
    "import pandas as pd\n",
    "import numpy as np\n",
    "from pandas.errors import UnsupportedFunctionCall"
   ]
  },
  {
   "attachments": {},
   "cell_type": "markdown",
   "metadata": {},
   "source": [
    "I figured out something about pandas today, which I was very surprised by.\n",
    "Applying `.groupby` on a `pd.DataFrame` automatically ignores `NaN` values. This is intended behavior, but sometimes you actually want to have some `NaN` in the data, to check whether your data-frame is correct and to find possible corruptions.\n",
    "\n",
    "Here is a little example:"
   ]
  },
  {
   "cell_type": "code",
   "execution_count": null,
   "metadata": {},
   "outputs": [],
   "source": [
    "# Create a sample Array:\n",
    "DF = pd.DataFrame.from_dict({'g1': ['a', 'a', 'a', 'a', 'b', 'b', 'b', 'b'], \n",
    "                             'g2': ['c', 'c', 'd', 'd', 'c', 'c', 'd', 'd'],\n",
    "                             'd1': [0, 1, np.nan, 3, 4, 5, 6, 7]})"
   ]
  },
  {
   "cell_type": "markdown",
   "metadata": {},
   "source": [
    "Averaging the entries in `DF`, we would expect a `NaN` in group `a`, `d`, but we get `3.0`!"
   ]
  },
  {
   "cell_type": "code",
   "execution_count": null,
   "metadata": {},
   "outputs": [],
   "source": [
    "DF.groupby(['g1', 'g2']).mean()"
   ]
  },
  {
   "attachments": {},
   "cell_type": "markdown",
   "metadata": {},
   "source": [
    "If you apply pandas `.mean()` method on a `DataFrame` you could specify a `skipna = False` in the function. This, unfortunately doesn't work after using `.groupby`."
   ]
  },
  {
   "cell_type": "code",
   "execution_count": null,
   "metadata": {},
   "outputs": [],
   "source": [
    "# This creates an error\n",
    "try:\n",
    "    DF.groupby(['g1', 'g2']).mean(skipna=False)\n",
    "except UnsupportedFunctionCall:\n",
    "    print('UnsupportedFunctionCall')"
   ]
  },
  {
   "attachments": {},
   "cell_type": "markdown",
   "metadata": {},
   "source": [
    "I think, I have seen one solution to solve this issue stating that using `.apply(np.mean)` instead of using `.mean()` might solve the problem.\n",
    "\n",
    "However:"
   ]
  },
  {
   "cell_type": "code",
   "execution_count": null,
   "metadata": {},
   "outputs": [],
   "source": [
    "DF.groupby(['g1', 'g2']).apply(np.mean)"
   ]
  },
  {
   "cell_type": "markdown",
   "metadata": {},
   "source": [
    "Calling `np.mean` causes pandas to bypass the function and calls `DF.mean()` from pandas with `skipna=True`! \n",
    "As far as I know, you have to create a new function to solve the issue."
   ]
  },
  {
   "cell_type": "code",
   "execution_count": null,
   "metadata": {},
   "outputs": [],
   "source": [
    "def mean_w_nan(x):\n",
    "    # Don't forget the np.array call!\n",
    "    return np.mean(np.array(x))\n",
    "\n",
    "DF.groupby(['g1', 'g2']).apply(mean_w_nan)"
   ]
  },
  {
   "cell_type": "markdown",
   "metadata": {},
   "source": [
    "# References:\n",
    "* [https://stackoverflow.com/questions/26145585/pandas-aggregation-ignoring-nans](https://stackoverflow.com/questions/26145585/pandas-aggregation-ignoring-nans)\n",
    "* [https://github.com/pandas-dev/pandas/issues/15674](https://github.com/pandas-dev/pandas/issues/15674)\n",
    "* [https://stackoverflow.com/questions/54106112/pandas-groupby-mean-not-ignoring-nans](https://stackoverflow.com/questions/54106112/pandas-groupby-mean-not-ignoring-nans)"
   ]
  }
 ],
 "metadata": {
  "kernelspec": {
   "display_name": "Python 3.7.7 64-bit ('gh-pages': conda)",
   "language": "python",
   "name": "python37764bitghpagescondac30da1c8c58b41629e1a476a226b386d"
  },
  "language_info": {
   "codemirror_mode": {
    "name": "ipython",
    "version": 3
   },
   "file_extension": ".py",
   "mimetype": "text/x-python",
   "name": "python",
   "nbconvert_exporter": "python",
   "pygments_lexer": "ipython3",
   "version": "3.7.7-final"
  }
 },
 "nbformat": 4,
 "nbformat_minor": 4
}
